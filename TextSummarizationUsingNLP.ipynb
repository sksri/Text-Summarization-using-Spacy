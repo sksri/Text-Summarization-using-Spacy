{
 "cells": [
  {
   "cell_type": "markdown",
   "metadata": {},
   "source": [
    "## Text Summarization"
   ]
  },
  {
   "cell_type": "code",
   "execution_count": 2,
   "metadata": {
    "id": "PGeIC2VO1zyi"
   },
   "outputs": [],
   "source": [
    "# Importing libraries\n",
    "import spacy\n",
    "from spacy.lang.en.stop_words import STOP_WORDS as stopwords\n",
    "from string import punctuation"
   ]
  },
  {
   "cell_type": "code",
   "execution_count": 3,
   "metadata": {
    "id": "MsS1i2S53Ft8"
   },
   "outputs": [],
   "source": [
    "# Loading spacy english small core  \n",
    "nlp = spacy.load('en_core_web_sm')"
   ]
  },
  {
   "cell_type": "code",
   "execution_count": 4,
   "metadata": {
    "id": "dJvJftwO4qjJ"
   },
   "outputs": [],
   "source": [
    "# Text Paragraph\n",
    "\n",
    "text = \"\"\"\n",
    "Hi there, I have just moved out of my old house and cancelled my account and direct debit\n",
    "However I just received a letter saying that WaterUK has tried to collect payment from my bank account\n",
    "I was just wondering whether I still owe WaterUK or whether a refund will be issued to my bank account?\n",
    "My address is 39 Bourne Terrace, London, W2 6PA\n",
    "Tanks\n",
    "Thanks*\n",
    "Apologize for the delay response. I'd be happy to assist you with that today.\n",
    "Could you please confirm your full name ?\n",
    "Saurabh Men Yee\n",
    "thanks\n",
    "Thanks for that. Could you please confirm the account holder name ?\n",
    "Ting Fu Mong\n",
    "Thanks for the confirmation. I see your account is in credit of Â£35.96. Would you like to have refund of that amount ?\n",
    "Yes please\n",
    "I have cancelled my direct debit with WaterUK already - will that be an issue?\n",
    "No problem. Thanks for the confirmation. Could you please give me 2-3 minutes to process your request.\n",
    "Will do thanks\n",
    "Thanks for staying online.\n",
    "I have raised a refund for you and you will receive in 7 working days.\n",
    "Is there anything else that I may assist you with ?\n",
    ":Brilliant, thank you! :)\n",
    "Do I need to provide my bank details or anything?\n",
    "No already It was registered with your account.\n",
    "Cool, thank you!\n",
    "Have I resolved everything for you today?\n",
    "That's all my queries for today\n",
    "Thank you so much for your help\n",
    "Yes\n",
    "It would be great if you could spare a minute to leave some feedback on how I helped you today. Thanks and have a great day:\n",
    "You too! Thank you\n",
    "Will do so\n",
    "Thank you and have a great day.\n",
    "\"\"\""
   ]
  },
  {
   "cell_type": "code",
   "execution_count": 5,
   "metadata": {
    "id": "BIo8F28i3O2e"
   },
   "outputs": [],
   "source": [
    "doc = nlp(text)"
   ]
  },
  {
   "cell_type": "code",
   "execution_count": 6,
   "metadata": {
    "colab": {
     "base_uri": "https://localhost:8080/"
    },
    "id": "1cEQnXec5Trn",
    "outputId": "ddf19b23-5f13-40c5-a38b-fbdb951df7c1"
   },
   "outputs": [
    {
     "name": "stdout",
     "output_type": "stream",
     "text": [
      "['\\n', 'Hi', 'there', ',', 'I', 'have', 'just', 'moved', 'out', 'of', 'my', 'old', 'house', 'and', 'cancelled', 'my', 'account', 'and', 'direct', 'debit', '\\n', 'However', 'I', 'just', 'received', 'a', 'letter', 'saying', 'that', 'WaterUK', 'has', 'tried', 'to', 'collect', 'payment', 'from', 'my', 'bank', 'account', '\\n', 'I', 'was', 'just', 'wondering', 'whether', 'I', 'still', 'owe', 'WaterUK', 'or', 'whether', 'a', 'refund', 'will', 'be', 'issued', 'to', 'my', 'bank', 'account', '?', '\\n', 'My', 'address', 'is', '39', 'Bourne', 'Terrace', ',', 'London', ',', 'W2', '6PA', '\\n', 'Tanks', '\\n', 'Thanks', '*', '\\n', 'Apologize', 'for', 'the', 'delay', 'response', '.', 'I', \"'d\", 'be', 'happy', 'to', 'assist', 'you', 'with', 'that', 'today', '.', '\\n', 'Could', 'you', 'please', 'confirm', 'your', 'full', 'name', '?', '\\n', 'Saurabh', 'Men', 'Yee', '\\n', 'thanks', '\\n', 'Thanks', 'for', 'that', '.', 'Could', 'you', 'please', 'confirm', 'the', 'account', 'holder', 'name', '?', '\\n', 'Ting', 'Fu', 'Mong', '\\n', 'Thanks', 'for', 'the', 'confirmation', '.', 'I', 'see', 'your', 'account', 'is', 'in', 'credit', 'of', 'Â£35.96', '.', 'Would', 'you', 'like', 'to', 'have', 'refund', 'of', 'that', 'amount', '?', '\\n', 'Yes', 'please', '\\n', 'I', 'have', 'cancelled', 'my', 'direct', 'debit', 'with', 'WaterUK', 'already', '-', 'will', 'that', 'be', 'an', 'issue', '?', '\\n', 'No', 'problem', '.', 'Thanks', 'for', 'the', 'confirmation', '.', 'Could', 'you', 'please', 'give', 'me', '2', '-', '3', 'minutes', 'to', 'process', 'your', 'request', '.', '\\n', 'Will', 'do', 'thanks', '\\n', 'Thanks', 'for', 'staying', 'online', '.', '\\n', 'I', 'have', 'raised', 'a', 'refund', 'for', 'you', 'and', 'you', 'will', 'receive', 'in', '7', 'working', 'days', '.', '\\n', 'Is', 'there', 'anything', 'else', 'that', 'I', 'may', 'assist', 'you', 'with', '?', '\\n', ':', 'Brilliant', ',', 'thank', 'you', '!', ':)', '\\n', 'Do', 'I', 'need', 'to', 'provide', 'my', 'bank', 'details', 'or', 'anything', '?', '\\n', 'No', 'already', 'It', 'was', 'registered', 'with', 'your', 'account', '.', '\\n', 'Cool', ',', 'thank', 'you', '!', '\\n', 'Have', 'I', 'resolved', 'everything', 'for', 'you', 'today', '?', '\\n', 'That', \"'s\", 'all', 'my', 'queries', 'for', 'today', '\\n', 'Thank', 'you', 'so', 'much', 'for', 'your', 'help', '\\n', 'Yes', '\\n', 'It', 'would', 'be', 'great', 'if', 'you', 'could', 'spare', 'a', 'minute', 'to', 'leave', 'some', 'feedback', 'on', 'how', 'I', 'helped', 'you', 'today', '.', 'Thanks', 'and', 'have', 'a', 'great', 'day', ':', '\\n', 'You', 'too', '!', 'Thank', 'you', '\\n', 'Will', 'do', 'so', '\\n', 'Thank', 'you', 'and', 'have', 'a', 'great', 'day', '.', '\\n']\n"
     ]
    }
   ],
   "source": [
    "tokens = [token.text for token in doc]\n",
    "print(tokens)"
   ]
  },
  {
   "cell_type": "code",
   "execution_count": 7,
   "metadata": {
    "colab": {
     "base_uri": "https://localhost:8080/",
     "height": 35
    },
    "id": "uX7Z67bk5rBA",
    "outputId": "18ad977d-0f77-48ea-feb5-8e647765e870"
   },
   "outputs": [
    {
     "data": {
      "text/plain": [
       "'!\"#$%&\\'()*+,-./:;<=>?@[\\\\]^_`{|}~\\n'"
      ]
     },
     "execution_count": 7,
     "metadata": {},
     "output_type": "execute_result"
    }
   ],
   "source": [
    "punctuation = punctuation + '\\n'\n",
    "punctuation"
   ]
  },
  {
   "cell_type": "code",
   "execution_count": 8,
   "metadata": {
    "id": "nHK-BJ3u5xyb"
   },
   "outputs": [],
   "source": [
    "word_freq = {}\n",
    "for word in doc:\n",
    "  if word.text.lower() not in stopwords:\n",
    "    if word.text.lower() not in punctuation:\n",
    "      if word.text not in word_freq.keys():\n",
    "        word_freq[word.text] = 1\n",
    "      else:\n",
    "        word_freq[word.text] += 1\n",
    "        "
   ]
  },
  {
   "cell_type": "code",
   "execution_count": 10,
   "metadata": {
    "colab": {
     "base_uri": "https://localhost:8080/"
    },
    "id": "mHpFYbQe7ldt",
    "outputId": "02a7f127-f2c6-4664-9a6c-5889bae2ecc3"
   },
   "outputs": [
    {
     "name": "stdout",
     "output_type": "stream",
     "text": [
      "{'Hi': 1, 'moved': 1, 'old': 1, 'house': 1, 'cancelled': 2, 'account': 6, 'direct': 2, 'debit': 2, 'received': 1, 'letter': 1, 'saying': 1, 'WaterUK': 3, 'tried': 1, 'collect': 1, 'payment': 1, 'bank': 3, 'wondering': 1, 'owe': 1, 'refund': 3, 'issued': 1, 'address': 1, '39': 1, 'Bourne': 1, 'Terrace': 1, 'London': 1, 'W2': 1, '6PA': 1, 'Tanks': 1, 'Thanks': 6, 'Apologize': 1, 'delay': 1, 'response': 1, 'happy': 1, 'assist': 2, 'today': 4, 'confirm': 2, 'Saurabh': 1, 'Men': 1, 'Yee': 1, 'thanks': 2, 'holder': 1, 'Ting': 1, 'Fu': 1, 'Mong': 1, 'confirmation': 2, 'credit': 1, 'Â£35.96': 1, 'like': 1, 'Yes': 2, 'issue': 1, 'problem': 1, '2': 1, '3': 1, 'minutes': 1, 'process': 1, 'request': 1, 'staying': 1, 'online': 1, 'raised': 1, 'receive': 1, '7': 1, 'working': 1, 'days': 1, 'Brilliant': 1, 'thank': 2, ':)': 1, 'need': 1, 'provide': 1, 'details': 1, 'registered': 1, 'Cool': 1, 'resolved': 1, 'queries': 1, 'Thank': 3, 'help': 1, 'great': 3, 'spare': 1, 'minute': 1, 'leave': 1, 'feedback': 1, 'helped': 1, 'day': 2}\n"
     ]
    }
   ],
   "source": [
    "# Checking word occurances\n",
    "print(word_freq)"
   ]
  },
  {
   "cell_type": "code",
   "execution_count": 11,
   "metadata": {
    "colab": {
     "base_uri": "https://localhost:8080/"
    },
    "id": "q8JpvTBH7pzF",
    "outputId": "c25a3e7f-652f-455b-9c37-c9220481a42f"
   },
   "outputs": [
    {
     "data": {
      "text/plain": [
       "6"
      ]
     },
     "execution_count": 11,
     "metadata": {},
     "output_type": "execute_result"
    }
   ],
   "source": [
    "max_word_freq = max(word_freq.values())\n",
    "max_word_freq"
   ]
  },
  {
   "cell_type": "code",
   "execution_count": 12,
   "metadata": {
    "id": "QQCSZlPG7_IW"
   },
   "outputs": [],
   "source": [
    "for word in word_freq.keys():\n",
    "  word_freq[word]= word_freq[word]/max_word_freq\n"
   ]
  },
  {
   "cell_type": "code",
   "execution_count": 13,
   "metadata": {
    "colab": {
     "base_uri": "https://localhost:8080/"
    },
    "id": "OxoW3Aby8enB",
    "outputId": "2a3d72a7-86cd-4564-95e1-7be40a2700a0"
   },
   "outputs": [
    {
     "name": "stdout",
     "output_type": "stream",
     "text": [
      "{'Hi': 0.16666666666666666, 'moved': 0.16666666666666666, 'old': 0.16666666666666666, 'house': 0.16666666666666666, 'cancelled': 0.3333333333333333, 'account': 1.0, 'direct': 0.3333333333333333, 'debit': 0.3333333333333333, 'received': 0.16666666666666666, 'letter': 0.16666666666666666, 'saying': 0.16666666666666666, 'WaterUK': 0.5, 'tried': 0.16666666666666666, 'collect': 0.16666666666666666, 'payment': 0.16666666666666666, 'bank': 0.5, 'wondering': 0.16666666666666666, 'owe': 0.16666666666666666, 'refund': 0.5, 'issued': 0.16666666666666666, 'address': 0.16666666666666666, '39': 0.16666666666666666, 'Bourne': 0.16666666666666666, 'Terrace': 0.16666666666666666, 'London': 0.16666666666666666, 'W2': 0.16666666666666666, '6PA': 0.16666666666666666, 'Tanks': 0.16666666666666666, 'Thanks': 1.0, 'Apologize': 0.16666666666666666, 'delay': 0.16666666666666666, 'response': 0.16666666666666666, 'happy': 0.16666666666666666, 'assist': 0.3333333333333333, 'today': 0.6666666666666666, 'confirm': 0.3333333333333333, 'Saurabh': 0.16666666666666666, 'Men': 0.16666666666666666, 'Yee': 0.16666666666666666, 'thanks': 0.3333333333333333, 'holder': 0.16666666666666666, 'Ting': 0.16666666666666666, 'Fu': 0.16666666666666666, 'Mong': 0.16666666666666666, 'confirmation': 0.3333333333333333, 'credit': 0.16666666666666666, 'Â£35.96': 0.16666666666666666, 'like': 0.16666666666666666, 'Yes': 0.3333333333333333, 'issue': 0.16666666666666666, 'problem': 0.16666666666666666, '2': 0.16666666666666666, '3': 0.16666666666666666, 'minutes': 0.16666666666666666, 'process': 0.16666666666666666, 'request': 0.16666666666666666, 'staying': 0.16666666666666666, 'online': 0.16666666666666666, 'raised': 0.16666666666666666, 'receive': 0.16666666666666666, '7': 0.16666666666666666, 'working': 0.16666666666666666, 'days': 0.16666666666666666, 'Brilliant': 0.16666666666666666, 'thank': 0.3333333333333333, ':)': 0.16666666666666666, 'need': 0.16666666666666666, 'provide': 0.16666666666666666, 'details': 0.16666666666666666, 'registered': 0.16666666666666666, 'Cool': 0.16666666666666666, 'resolved': 0.16666666666666666, 'queries': 0.16666666666666666, 'Thank': 0.5, 'help': 0.16666666666666666, 'great': 0.5, 'spare': 0.16666666666666666, 'minute': 0.16666666666666666, 'leave': 0.16666666666666666, 'feedback': 0.16666666666666666, 'helped': 0.16666666666666666, 'day': 0.3333333333333333}\n"
     ]
    }
   ],
   "source": [
    "print(word_freq)"
   ]
  },
  {
   "cell_type": "code",
   "execution_count": 14,
   "metadata": {
    "id": "_wNOuPlY8pEc"
   },
   "outputs": [],
   "source": [
    "sentence_token = [sent for sent in doc.sents]"
   ]
  },
  {
   "cell_type": "code",
   "execution_count": 15,
   "metadata": {
    "colab": {
     "base_uri": "https://localhost:8080/"
    },
    "id": "b4_P3aF69mKW",
    "outputId": "882768d5-48ce-4433-f66d-fcbe99d99fd3"
   },
   "outputs": [
    {
     "name": "stdout",
     "output_type": "stream",
     "text": [
      "[\n",
      ", Hi there, I have just moved out of my old house and cancelled my account and direct debit\n",
      ", However I just received a letter saying that WaterUK has tried to collect payment from my bank account\n",
      ", I was just wondering whether I still owe WaterUK or whether a refund will be issued to my bank account?, \n",
      ", My address is 39 Bourne Terrace, London,, W2 6PA\n",
      ", Tanks\n",
      "Thanks*\n",
      ", Apologize for the delay response., I'd be happy to assist you with that today., \n",
      ", Could you please confirm your full name ?, \n",
      ", Saurabh Men Yee\n",
      "thanks\n",
      ", Thanks for that., Could you please confirm the account holder name ?\n",
      ", Ting Fu Mong\n",
      ", Thanks for the confirmation., I see your account is in credit of Â£35.96., Would you like to have refund of that amount ?, \n",
      ", Yes please\n",
      ", I have cancelled my direct debit with WaterUK already - will that be an issue?\n",
      ", No problem., Thanks for the confirmation., Could you please give me 2-3 minutes to process your request., \n",
      ", Will do thanks\n",
      ", Thanks for staying online., \n",
      ", I have raised a refund for you and you will receive in 7 working days.\n",
      ", Is there anything else that I may assist you with ?\n",
      ", :Brilliant, thank you!, :)\n",
      ", Do I need to provide my bank details or anything?\n",
      ", No already It was registered with your account., \n",
      ", Cool, thank you!\n",
      ", Have I resolved everything for you today?, \n",
      ", That's all my queries for today\n",
      ", Thank you so much for your help\n",
      ", Yes\n",
      ", It would be great if you could spare a minute to leave some feedback on how I helped you today., Thanks and have a great day:\n",
      ", You too!, Thank you\n",
      "Will do so\n",
      ", Thank you and have a great day.\n",
      "]\n"
     ]
    }
   ],
   "source": [
    "print(sentence_token)"
   ]
  },
  {
   "cell_type": "code",
   "execution_count": 16,
   "metadata": {
    "id": "zMuUodaC9wQS"
   },
   "outputs": [],
   "source": [
    "# Checking sentence score\n",
    "sentence_scores = {}\n",
    "for sent in sentence_token:\n",
    "  for word in sent:\n",
    "    if word.text.lower() in word_freq.keys():\n",
    "      if sent not in sentence_scores.keys():\n",
    "        sentence_scores[sent] = word_freq[word.text.lower()]\n",
    "      else:\n",
    "        sentence_scores[sent] = word_freq[word.text.lower()]"
   ]
  },
  {
   "cell_type": "code",
   "execution_count": 17,
   "metadata": {
    "colab": {
     "base_uri": "https://localhost:8080/"
    },
    "id": "pQM9I1db_EEc",
    "outputId": "cbfa25d7-3046-422c-ffca-89aeb1f38e37"
   },
   "outputs": [
    {
     "data": {
      "text/plain": [
       "{Hi there, I have just moved out of my old house and cancelled my account and direct debit: 0.3333333333333333,\n",
       " However I just received a letter saying that WaterUK has tried to collect payment from my bank account: 1.0,\n",
       " I was just wondering whether I still owe WaterUK or whether a refund will be issued to my bank account?: 1.0,\n",
       " My address is 39 Bourne Terrace, London,: 0.16666666666666666,\n",
       " Tanks\n",
       " Thanks*: 0.3333333333333333,\n",
       " Apologize for the delay response.: 0.16666666666666666,\n",
       " I'd be happy to assist you with that today.: 0.6666666666666666,\n",
       " Could you please confirm your full name ?: 0.3333333333333333,\n",
       " Saurabh Men Yee\n",
       " thanks: 0.3333333333333333,\n",
       " Thanks for that.: 0.3333333333333333,\n",
       " Could you please confirm the account holder name ?: 0.16666666666666666,\n",
       " Thanks for the confirmation.: 0.3333333333333333,\n",
       " I see your account is in credit of Â£35.96.: 0.16666666666666666,\n",
       " Would you like to have refund of that amount ?: 0.5,\n",
       " I have cancelled my direct debit with WaterUK already - will that be an issue?: 0.16666666666666666,\n",
       " No problem.: 0.16666666666666666,\n",
       " Thanks for the confirmation.: 0.3333333333333333,\n",
       " Could you please give me 2-3 minutes to process your request.: 0.16666666666666666,\n",
       " Will do thanks: 0.3333333333333333,\n",
       " Thanks for staying online.: 0.16666666666666666,\n",
       " I have raised a refund for you and you will receive in 7 working days.: 0.16666666666666666,\n",
       " Is there anything else that I may assist you with ?: 0.3333333333333333,\n",
       " :Brilliant, thank you!: 0.3333333333333333,\n",
       " :): 0.16666666666666666,\n",
       " Do I need to provide my bank details or anything?: 0.16666666666666666,\n",
       " No already It was registered with your account.: 1.0,\n",
       " Cool, thank you!: 0.3333333333333333,\n",
       " Have I resolved everything for you today?: 0.6666666666666666,\n",
       " That's all my queries for today: 0.6666666666666666,\n",
       " Thank you so much for your help: 0.16666666666666666,\n",
       " It would be great if you could spare a minute to leave some feedback on how I helped you today.: 0.6666666666666666,\n",
       " Thanks and have a great day:: 0.3333333333333333,\n",
       " Thank you\n",
       " Will do so: 0.3333333333333333,\n",
       " Thank you and have a great day.: 0.3333333333333333}"
      ]
     },
     "execution_count": 17,
     "metadata": {},
     "output_type": "execute_result"
    }
   ],
   "source": [
    "sentence_scores"
   ]
  },
  {
   "cell_type": "code",
   "execution_count": 18,
   "metadata": {
    "id": "yMHQ1Zsh__8x"
   },
   "outputs": [],
   "source": [
    "from heapq import nlargest"
   ]
  },
  {
   "cell_type": "code",
   "execution_count": 19,
   "metadata": {
    "id": "Xy7rMO0nAqaL"
   },
   "outputs": [],
   "source": [
    "select_length = int(len(sentence_token)*0.3)"
   ]
  },
  {
   "cell_type": "code",
   "execution_count": 20,
   "metadata": {
    "colab": {
     "base_uri": "https://localhost:8080/"
    },
    "id": "sUNzYbRoAxlj",
    "outputId": "4977f184-7744-4923-8b06-fc46bfb893bf"
   },
   "outputs": [
    {
     "data": {
      "text/plain": [
       "14"
      ]
     },
     "execution_count": 20,
     "metadata": {},
     "output_type": "execute_result"
    }
   ],
   "source": [
    "select_length"
   ]
  },
  {
   "cell_type": "code",
   "execution_count": 21,
   "metadata": {
    "id": "qUnP9bsCA11N"
   },
   "outputs": [],
   "source": [
    "summary = nlargest(select_length, sentence_scores, sentence_scores.get)"
   ]
  },
  {
   "cell_type": "code",
   "execution_count": 22,
   "metadata": {
    "colab": {
     "base_uri": "https://localhost:8080/"
    },
    "id": "3RbYif1jBAsB",
    "outputId": "cec9e292-5b80-4a81-b52d-803fb15dae69"
   },
   "outputs": [
    {
     "data": {
      "text/plain": [
       "[However I just received a letter saying that WaterUK has tried to collect payment from my bank account,\n",
       " I was just wondering whether I still owe WaterUK or whether a refund will be issued to my bank account?,\n",
       " No already It was registered with your account.,\n",
       " I'd be happy to assist you with that today.,\n",
       " Have I resolved everything for you today?,\n",
       " That's all my queries for today,\n",
       " It would be great if you could spare a minute to leave some feedback on how I helped you today.,\n",
       " Would you like to have refund of that amount ?,\n",
       " Hi there, I have just moved out of my old house and cancelled my account and direct debit,\n",
       " Tanks\n",
       " Thanks*,\n",
       " Could you please confirm your full name ?,\n",
       " Saurabh Men Yee\n",
       " thanks,\n",
       " Thanks for that.,\n",
       " Thanks for the confirmation.]"
      ]
     },
     "execution_count": 22,
     "metadata": {},
     "output_type": "execute_result"
    }
   ],
   "source": [
    "summary"
   ]
  },
  {
   "cell_type": "code",
   "execution_count": 23,
   "metadata": {
    "id": "QeHjT6FtBBhL"
   },
   "outputs": [],
   "source": [
    "final_summary  = [word.text for word in summary]"
   ]
  },
  {
   "cell_type": "code",
   "execution_count": 24,
   "metadata": {
    "id": "W3gvnUB3CZqk"
   },
   "outputs": [],
   "source": [
    "final_summary = ' '.join(final_summary)"
   ]
  },
  {
   "cell_type": "code",
   "execution_count": 25,
   "metadata": {
    "colab": {
     "base_uri": "https://localhost:8080/"
    },
    "id": "y0hDOqlWCeu2",
    "outputId": "73661986-4d60-4246-bc83-a240c6b58acc"
   },
   "outputs": [
    {
     "name": "stdout",
     "output_type": "stream",
     "text": [
      "However I just received a letter saying that WaterUK has tried to collect payment from my bank account\n",
      " I was just wondering whether I still owe WaterUK or whether a refund will be issued to my bank account? No already It was registered with your account. I'd be happy to assist you with that today. Have I resolved everything for you today? That's all my queries for today\n",
      " It would be great if you could spare a minute to leave some feedback on how I helped you today. Would you like to have refund of that amount ? Hi there, I have just moved out of my old house and cancelled my account and direct debit\n",
      " Tanks\n",
      "Thanks*\n",
      " Could you please confirm your full name ? Saurabh Men Yee\n",
      "thanks\n",
      " Thanks for that. Thanks for the confirmation.\n"
     ]
    }
   ],
   "source": [
    "print(final_summary)"
   ]
  },
  {
   "cell_type": "code",
   "execution_count": 26,
   "metadata": {
    "colab": {
     "base_uri": "https://localhost:8080/"
    },
    "id": "B6tL6xhjCgc_",
    "outputId": "cd878a0d-a822-4295-9e07-59574929ff19"
   },
   "outputs": [
    {
     "data": {
      "text/plain": [
       "(1500, 735)"
      ]
     },
     "execution_count": 26,
     "metadata": {},
     "output_type": "execute_result"
    }
   ],
   "source": [
    "len(text), len(final_summary)"
   ]
  }
 ],
 "metadata": {
  "colab": {
   "collapsed_sections": [],
   "name": "TextSummarizaitonUsingNLP.ipynb",
   "provenance": []
  },
  "kernelspec": {
   "display_name": "Python 3",
   "language": "python",
   "name": "python3"
  },
  "language_info": {
   "codemirror_mode": {
    "name": "ipython",
    "version": 3
   },
   "file_extension": ".py",
   "mimetype": "text/x-python",
   "name": "python",
   "nbconvert_exporter": "python",
   "pygments_lexer": "ipython3",
   "version": "3.8.5"
  }
 },
 "nbformat": 4,
 "nbformat_minor": 1
}
